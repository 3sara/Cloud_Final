{
  "nbformat": 4,
  "nbformat_minor": 0,
  "metadata": {
    "colab": {
      "provenance": [],
      "authorship_tag": "ABX9TyNjWUgbRKlOgB3QP/39YkWJ",
      "include_colab_link": true
    },
    "kernelspec": {
      "name": "python3",
      "display_name": "Python 3"
    },
    "language_info": {
      "name": "python"
    }
  },
  "cells": [
    {
      "cell_type": "markdown",
      "metadata": {
        "id": "view-in-github",
        "colab_type": "text"
      },
      "source": [
        "<a href=\"https://colab.research.google.com/github/3sara/Cloud_Final/blob/main/Assignement1.ipynb\" target=\"_parent\"><img src=\"https://colab.research.google.com/assets/colab-badge.svg\" alt=\"Open In Colab\"/></a>"
      ]
    },
    {
      "cell_type": "code",
      "execution_count": null,
      "metadata": {
        "id": "NzDz26ef_CET"
      },
      "outputs": [],
      "source": [
        "import torch\n",
        "from torch import nn\n",
        "import numpy as np\n",
        "\n",
        "# Define the model\n",
        "class SymmetryNet(nn.Module):\n",
        "    def __init__(self):\n",
        "        super(SymmetryNet, self).__init__()\n",
        "        self.hidden1 = nn.Linear(64, 1)\n",
        "        self.hidden2 = nn.Linear(1, 1)\n",
        "        self.output = nn.Linear(1, 1)\n",
        "        self.activation = nn.ReLU()\n",
        "\n",
        "        # Initialize weights and biases\n",
        "        nn.init.uniform_(self.hidden1.weight, -0.3, 0.3)\n",
        "        nn.init.uniform_(self.hidden2.weight, -0.3, 0.3)\n",
        "        nn.init.uniform_(self.output.weight, -0.3, 0.3)\n",
        "        self.hidden1.bias.data.fill_(-1)\n",
        "        self.hidden2.bias.data.fill_(-1)\n",
        "        self.output.bias.data.fill_(1)\n",
        "\n",
        "    def forward(self, x):\n",
        "        x = self.activation(self.hidden1(x))\n",
        "        x = self.activation(self.hidden2(x))\n",
        "        x = self.output(x)\n",
        "        return x\n",
        "\n",
        "# Create the model\n",
        "model = SymmetryNet()\n",
        "\n",
        "# Define loss function and optimizer\n",
        "criterion = nn.BCEWithLogitsLoss()\n",
        "optimizer = torch.optim.Adam(model.parameters(), lr=0.1)\n",
        "\n",
        "# Generate 64-dimensional input vectors\n",
        "inputs = torch.rand(1425, 64)\n",
        "\n",
        "# Generate labels based on mirror symmetry\n",
        "labels = torch.tensor([1 if np.array_equal(x, x.flip(0)) else 0 for x in inputs]).float().view(-1, 1)\n",
        "\n",
        "# Train the model\n",
        "for epoch in range(1425):\n",
        "    optimizer.zero_grad()\n",
        "    outputs = model(inputs)\n",
        "    loss = criterion(outputs, labels)\n",
        "    loss.backward()\n",
        "    optimizer.step()"
      ]
    },
    {
      "cell_type": "code",
      "source": [
        "import torch\n",
        "from torch import nn\n",
        "import numpy as np\n",
        "\n",
        "# Define the model\n",
        "class SymmetryNet(nn.Module):\n",
        "    def __init__(self):\n",
        "        super(SymmetryNet, self).__init__()\n",
        "        self.hidden1 = nn.Linear(64, 1)\n",
        "        self.hidden2 = nn.Linear(1, 1)\n",
        "        self.output = nn.Linear(1, 1)\n",
        "        self.activation = nn.ReLU()\n",
        "\n",
        "        # Initialize weights and biases\n",
        "        nn.init.uniform_(self.hidden1.weight, -0.3, 0.3)\n",
        "        nn.init.uniform_(self.hidden2.weight, -0.3, 0.3)\n",
        "        nn.init.uniform_(self.output.weight, -0.3, 0.3)\n",
        "        self.hidden1.bias.data.fill_(-1)\n",
        "        self.hidden2.bias.data.fill_(-1)\n",
        "        self.output.bias.data.fill_(1)\n",
        "\n",
        "    def forward(self, x):\n",
        "        x = self.activation(self.hidden1(x))\n",
        "        x = self.activation(self.hidden2(x))\n",
        "        x = self.output(x)\n",
        "        return x\n",
        "\n",
        "# Create the model\n",
        "model = SymmetryNet()\n",
        "\n",
        "# Define loss function and optimizer\n",
        "criterion = nn.BCEWithLogitsLoss()\n",
        "optimizer = torch.optim.Adam(model.parameters(), lr=0.1)\n",
        "\n",
        "# Generate 64-dimensional input vectors\n",
        "inputs = torch.rand(1425, 64)\n",
        "\n",
        "# Generate labels based on mirror symmetry\n",
        "labels = torch.tensor([1 if np.array_equal(x, x.flip(0)) else 0 for x in inputs]).float().view(-1, 1)\n",
        "\n",
        "# Train the model\n",
        "for epoch in range(1425):\n",
        "    optimizer.zero_grad()\n",
        "    outputs = model(inputs)\n",
        "    loss = criterion(outputs, labels)\n",
        "    loss.backward()\n",
        "    optimizer.step()\n",
        "\n",
        "    # Make weights symmetric around the middle of the input vector\n",
        "    with torch.no_grad():\n",
        "        model.hidden1.weight.copy_((model.hidden1.weight + model.hidden1.weight.flip(0)) / 2)\n",
        "        model.hidden2.weight.copy_((model.hidden2.weight + model.hidden2.weight.flip(0)) / 2)"
      ],
      "metadata": {
        "id": "SRdfC5EHAt2_"
      },
      "execution_count": null,
      "outputs": []
    }
  ]
}